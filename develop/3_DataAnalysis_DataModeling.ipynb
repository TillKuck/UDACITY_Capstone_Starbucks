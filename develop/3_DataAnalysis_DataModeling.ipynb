{
 "cells": [
  {
   "cell_type": "code",
   "execution_count": 289,
   "metadata": {},
   "outputs": [],
   "source": [
    "import pandas as pd\n",
    "import numpy as np\n",
    "import matplotlib.pyplot as plt\n",
    "\n",
    "pd.set_option('display.max_rows', 500)"
   ]
  },
  {
   "cell_type": "markdown",
   "metadata": {},
   "source": [
    "### Load cleaned data"
   ]
  },
  {
   "cell_type": "code",
   "execution_count": 290,
   "metadata": {},
   "outputs": [],
   "source": [
    "portfolio = pd.read_pickle('../data/portfolio_cleaned.pkl')\n",
    "profile = pd.read_pickle('../data/profile_cleaned.pkl')\n",
    "transcript = pd.read_pickle('../data/transcript_cleaned.pkl')"
   ]
  },
  {
   "cell_type": "markdown",
   "metadata": {},
   "source": [
    "### Merge profile and transcript datasets\n",
    "\n",
    "I use an inner join for the transcript and profile datasets as I deleted user_ids with age 118, no gender and no income. These entries won't help us in classifying users later on in the modeling stage. Then I merge the joined dataset with the portfolio dataset to add the offer type. Finally, I drop all the rows, I won't need to define my target variable."
   ]
  },
  {
   "cell_type": "code",
   "execution_count": 291,
   "metadata": {},
   "outputs": [
    {
     "data": {
      "text/html": [
       "<div>\n",
       "<style scoped>\n",
       "    .dataframe tbody tr th:only-of-type {\n",
       "        vertical-align: middle;\n",
       "    }\n",
       "\n",
       "    .dataframe tbody tr th {\n",
       "        vertical-align: top;\n",
       "    }\n",
       "\n",
       "    .dataframe thead th {\n",
       "        text-align: right;\n",
       "    }\n",
       "</style>\n",
       "<table border=\"1\" class=\"dataframe\">\n",
       "  <thead>\n",
       "    <tr style=\"text-align: right;\">\n",
       "      <th></th>\n",
       "      <th>user_id</th>\n",
       "      <th>status</th>\n",
       "      <th>test_time</th>\n",
       "      <th>offer_id</th>\n",
       "      <th>offer_duration</th>\n",
       "      <th>offer_type</th>\n",
       "    </tr>\n",
       "  </thead>\n",
       "  <tbody>\n",
       "    <tr>\n",
       "      <th>0</th>\n",
       "      <td>78afa995795e4d85b5d9ceeca43f5fef</td>\n",
       "      <td>offer received</td>\n",
       "      <td>0.00</td>\n",
       "      <td>9b98b8c7a33c4b65b9aebfe6a799e6d9</td>\n",
       "      <td>7.0</td>\n",
       "      <td>bogo</td>\n",
       "    </tr>\n",
       "    <tr>\n",
       "      <th>1</th>\n",
       "      <td>78afa995795e4d85b5d9ceeca43f5fef</td>\n",
       "      <td>offer viewed</td>\n",
       "      <td>0.25</td>\n",
       "      <td>9b98b8c7a33c4b65b9aebfe6a799e6d9</td>\n",
       "      <td>7.0</td>\n",
       "      <td>bogo</td>\n",
       "    </tr>\n",
       "    <tr>\n",
       "      <th>2</th>\n",
       "      <td>78afa995795e4d85b5d9ceeca43f5fef</td>\n",
       "      <td>transaction</td>\n",
       "      <td>5.50</td>\n",
       "      <td>NaN</td>\n",
       "      <td>NaN</td>\n",
       "      <td>NaN</td>\n",
       "    </tr>\n",
       "  </tbody>\n",
       "</table>\n",
       "</div>"
      ],
      "text/plain": [
       "                            user_id          status  test_time  \\\n",
       "0  78afa995795e4d85b5d9ceeca43f5fef  offer received       0.00   \n",
       "1  78afa995795e4d85b5d9ceeca43f5fef    offer viewed       0.25   \n",
       "2  78afa995795e4d85b5d9ceeca43f5fef     transaction       5.50   \n",
       "\n",
       "                           offer_id  offer_duration offer_type  \n",
       "0  9b98b8c7a33c4b65b9aebfe6a799e6d9             7.0       bogo  \n",
       "1  9b98b8c7a33c4b65b9aebfe6a799e6d9             7.0       bogo  \n",
       "2                               NaN             NaN        NaN  "
      ]
     },
     "execution_count": 291,
     "metadata": {},
     "output_type": "execute_result"
    }
   ],
   "source": [
    "profile_transcript = pd.merge(transcript, profile, how='inner', on='user_id')\n",
    "merged = pd.merge(profile_transcript, portfolio, how='left', on='offer_id')\n",
    "merged.drop(['gender', 'age', 'income', 'member_days', 'amount_spent', 'reward_received', 'offer_reward', 'offer_channels', 'offer_difficulty'], axis=1, inplace=True)\n",
    "merged.head(3)"
   ]
  },
  {
   "cell_type": "code",
   "execution_count": 292,
   "metadata": {},
   "outputs": [
    {
     "name": "stdout",
     "output_type": "stream",
     "text": [
      "<class 'pandas.core.frame.DataFrame'>\n",
      "RangeIndex: 272762 entries, 0 to 272761\n",
      "Data columns (total 6 columns):\n",
      " #   Column          Non-Null Count   Dtype  \n",
      "---  ------          --------------   -----  \n",
      " 0   user_id         272762 non-null  object \n",
      " 1   status          272762 non-null  object \n",
      " 2   test_time       272762 non-null  float64\n",
      " 3   offer_id        148805 non-null  object \n",
      " 4   offer_duration  148805 non-null  float64\n",
      " 5   offer_type      148805 non-null  object \n",
      "dtypes: float64(2), object(4)\n",
      "memory usage: 12.5+ MB\n"
     ]
    }
   ],
   "source": [
    "merged.info()"
   ]
  },
  {
   "cell_type": "markdown",
   "metadata": {},
   "source": [
    "### Examine data and create cross dataset visuals"
   ]
  },
  {
   "cell_type": "markdown",
   "metadata": {},
   "source": [
    "Let's have a look at the campaign funnel for bogo, discount and informational offers from offer received until offer completed."
   ]
  },
  {
   "cell_type": "code",
   "execution_count": 293,
   "metadata": {},
   "outputs": [
    {
     "data": {
      "text/plain": [
       "offer_type     status         \n",
       "bogo           offer completed    15258\n",
       "               offer received     26537\n",
       "               offer viewed       22039\n",
       "discount       offer completed    17186\n",
       "               offer received     26664\n",
       "               offer viewed       18461\n",
       "informational  offer received     13300\n",
       "               offer viewed        9360\n",
       "Name: user_id, dtype: int64"
      ]
     },
     "execution_count": 293,
     "metadata": {},
     "output_type": "execute_result"
    }
   ],
   "source": [
    "campaign_funnel = merged.groupby(['offer_type','status'])['user_id'].count()\n",
    "campaign_funnel"
   ]
  },
  {
   "cell_type": "code",
   "execution_count": 294,
   "metadata": {},
   "outputs": [
    {
     "data": {
      "text/plain": [
       "Text(0.5, 1.0, 'informational')"
      ]
     },
     "execution_count": 294,
     "metadata": {},
     "output_type": "execute_result"
    },
    {
     "data": {
      "image/png": "[encoded data removed]",
      "text/plain": [
       "<Figure size 1000x500 with 3 Axes>"
      ]
     },
     "metadata": {},
     "output_type": "display_data"
    }
   ],
   "source": [
    "fig, (ax1, ax2, ax3) = plt.subplots(nrows=1, ncols=3, sharey=True)\n",
    "\n",
    "ax1 = plt.subplot(131)\n",
    "bogo = merged[merged['offer_type'] == 'bogo'].status.value_counts()\n",
    "bogo.plot(kind='bar', figsize=(10,5))\n",
    "plt.ylabel('Counts')\n",
    "plt.xlabel('Status')\n",
    "plt.title('bogo')\n",
    "\n",
    "ax2 = plt.subplot(132)\n",
    "discount = merged[merged['offer_type'] == 'discount'].status.value_counts()\n",
    "discount.plot(kind='bar' , figsize=(10,5))\n",
    "plt.ylabel('Counts')\n",
    "plt.xlabel('Status')\n",
    "plt.title('discount')\n",
    "\n",
    "ax3 = plt.subplot(133)\n",
    "informational = merged[merged['offer_type'] == 'informational'].status.value_counts()\n",
    "informational.plot(kind='bar' , figsize=(10,5))\n",
    "plt.ylabel('Counts')\n",
    "plt.xlabel('Status')\n",
    "plt.title('informational')"
   ]
  },
  {
   "cell_type": "markdown",
   "metadata": {},
   "source": [
    "Let's have a look at the view and complete rates for the different offer_types:"
   ]
  },
  {
   "cell_type": "code",
   "execution_count": 295,
   "metadata": {},
   "outputs": [
    {
     "name": "stdout",
     "output_type": "stream",
     "text": [
      "---bogo:---\n",
      "offer_view_rate: 83.1%\n",
      "offer_complete_rate 57.5%\n",
      "\n",
      "\n",
      "---discount:---\n",
      "offer_view_rate: 69.2%\n",
      "offer_complete_rate 64.5%\n",
      "\n",
      "\n",
      "---informationl:---\n",
      "offer_view_rate: 70.4%\n"
     ]
    }
   ],
   "source": [
    "print('---bogo:---')\n",
    "print('offer_view_rate:', \"{:.1%}\".format(campaign_funnel.iloc[2]/campaign_funnel.iloc[1]))\n",
    "print('offer_complete_rate', \"{:.1%}\".format(campaign_funnel.iloc[0]/campaign_funnel.iloc[1]))\n",
    "print('\\n')\n",
    "print('---discount:---')\n",
    "print('offer_view_rate:', \"{:.1%}\".format(campaign_funnel.iloc[5]/campaign_funnel.iloc[4]))\n",
    "print('offer_complete_rate', \"{:.1%}\".format(campaign_funnel.iloc[3]/campaign_funnel.iloc[4]))\n",
    "print('\\n')\n",
    "print('---informationl:---')\n",
    "print('offer_view_rate:', \"{:.1%}\".format(campaign_funnel.iloc[7]/campaign_funnel.iloc[6]))"
   ]
  },
  {
   "cell_type": "markdown",
   "metadata": {},
   "source": [
    "### Define Target Variable"
   ]
  },
  {
   "cell_type": "markdown",
   "metadata": {},
   "source": [
    "As the rates vary between the offer types, I decide to build three different machine learning models. For bogo, discount and informational offers.  \n",
    "However, the logic to build the target variables for bogo and discount offers is the same.\n",
    "  \n",
    "So, let's define our logic whom to send an offer and to whom not:\n",
    "\n",
    "**bogo** and **discount**:  \n",
    "offer received > offer viewed > transaction > offer completed -> send offer = 1  \n",
    "transaction                                                   -> don't send offer = 0  \n",
    "offer received > transaction                                  -> don't send offer = 0  \n",
    "offer received > transaction > offer viewed                   -> don't send offer = 0  \n",
    "offer received > transaction > offer completed > offer viewed -> don't send offer = 0  \n",
    "offer received > offer viewed                                 -> don't send offer = 0  \n",
    "\n",
    "**informational**:  \n",
    "offer received > offer viewed > transaction                   -> send offer = 1  \n",
    "transaction                                                   -> don't send offer = 0  \n",
    "offer received > transaction                                  -> don't send offer = 0  \n",
    "offer received > transaction > offer viewed                   -> don't send offer = 0  "
   ]
  },
  {
   "cell_type": "markdown",
   "metadata": {},
   "source": [
    "Above, we basically **send** those users an **offer** who **made a transaction within the offer duration and after they viewed the offer**.  \n",
    "In all other possible combinations, users make a transaction without viewing the offer. Hence, we can assume that they  \n",
    "would have made a purchase either way. So, we won't send them an offer as this would result in forgone revenues.  \n",
    "\n",
    "Let's code this logic:\n",
    "\n",
    "1. We start by filtering the dataset by user_id and test_time."
   ]
  },
  {
   "cell_type": "code",
   "execution_count": 296,
   "metadata": {},
   "outputs": [
    {
     "data": {
      "text/html": [
       "<div>\n",
       "<style scoped>\n",
       "    .dataframe tbody tr th:only-of-type {\n",
       "        vertical-align: middle;\n",
       "    }\n",
       "\n",
       "    .dataframe tbody tr th {\n",
       "        vertical-align: top;\n",
       "    }\n",
       "\n",
       "    .dataframe thead th {\n",
       "        text-align: right;\n",
       "    }\n",
       "</style>\n",
       "<table border=\"1\" class=\"dataframe\">\n",
       "  <thead>\n",
       "    <tr style=\"text-align: right;\">\n",
       "      <th></th>\n",
       "      <th>user_id</th>\n",
       "      <th>status</th>\n",
       "      <th>test_time</th>\n",
       "      <th>offer_id</th>\n",
       "      <th>offer_duration</th>\n",
       "      <th>offer_type</th>\n",
       "    </tr>\n",
       "  </thead>\n",
       "  <tbody>\n",
       "    <tr>\n",
       "      <th>0</th>\n",
       "      <td>78afa995795e4d85b5d9ceeca43f5fef</td>\n",
       "      <td>offer received</td>\n",
       "      <td>0.00</td>\n",
       "      <td>9b98b8c7a33c4b65b9aebfe6a799e6d9</td>\n",
       "      <td>7.0</td>\n",
       "      <td>bogo</td>\n",
       "    </tr>\n",
       "    <tr>\n",
       "      <th>1</th>\n",
       "      <td>78afa995795e4d85b5d9ceeca43f5fef</td>\n",
       "      <td>offer viewed</td>\n",
       "      <td>0.25</td>\n",
       "      <td>9b98b8c7a33c4b65b9aebfe6a799e6d9</td>\n",
       "      <td>7.0</td>\n",
       "      <td>bogo</td>\n",
       "    </tr>\n",
       "    <tr>\n",
       "      <th>2</th>\n",
       "      <td>78afa995795e4d85b5d9ceeca43f5fef</td>\n",
       "      <td>transaction</td>\n",
       "      <td>5.50</td>\n",
       "      <td>NaN</td>\n",
       "      <td>NaN</td>\n",
       "      <td>NaN</td>\n",
       "    </tr>\n",
       "    <tr>\n",
       "      <th>3</th>\n",
       "      <td>78afa995795e4d85b5d9ceeca43f5fef</td>\n",
       "      <td>offer completed</td>\n",
       "      <td>5.50</td>\n",
       "      <td>9b98b8c7a33c4b65b9aebfe6a799e6d9</td>\n",
       "      <td>7.0</td>\n",
       "      <td>bogo</td>\n",
       "    </tr>\n",
       "    <tr>\n",
       "      <th>4</th>\n",
       "      <td>78afa995795e4d85b5d9ceeca43f5fef</td>\n",
       "      <td>transaction</td>\n",
       "      <td>6.00</td>\n",
       "      <td>NaN</td>\n",
       "      <td>NaN</td>\n",
       "      <td>NaN</td>\n",
       "    </tr>\n",
       "  </tbody>\n",
       "</table>\n",
       "</div>"
      ],
      "text/plain": [
       "                            user_id           status  test_time  \\\n",
       "0  78afa995795e4d85b5d9ceeca43f5fef   offer received       0.00   \n",
       "1  78afa995795e4d85b5d9ceeca43f5fef     offer viewed       0.25   \n",
       "2  78afa995795e4d85b5d9ceeca43f5fef      transaction       5.50   \n",
       "3  78afa995795e4d85b5d9ceeca43f5fef  offer completed       5.50   \n",
       "4  78afa995795e4d85b5d9ceeca43f5fef      transaction       6.00   \n",
       "\n",
       "                           offer_id  offer_duration offer_type  \n",
       "0  9b98b8c7a33c4b65b9aebfe6a799e6d9             7.0       bogo  \n",
       "1  9b98b8c7a33c4b65b9aebfe6a799e6d9             7.0       bogo  \n",
       "2                               NaN             NaN        NaN  \n",
       "3  9b98b8c7a33c4b65b9aebfe6a799e6d9             7.0       bogo  \n",
       "4                               NaN             NaN        NaN  "
      ]
     },
     "execution_count": 296,
     "metadata": {},
     "output_type": "execute_result"
    }
   ],
   "source": [
    "merged.sort_values(by=['user_id', 'test_time'])\n",
    "merged.head()"
   ]
  },
  {
   "cell_type": "markdown",
   "metadata": {},
   "source": [
    "2. Forward fill missing cells, so we have the offer id of the last offer in transaction rows"
   ]
  },
  {
   "cell_type": "code",
   "execution_count": 297,
   "metadata": {},
   "outputs": [
    {
     "data": {
      "text/html": [
       "<div>\n",
       "<style scoped>\n",
       "    .dataframe tbody tr th:only-of-type {\n",
       "        vertical-align: middle;\n",
       "    }\n",
       "\n",
       "    .dataframe tbody tr th {\n",
       "        vertical-align: top;\n",
       "    }\n",
       "\n",
       "    .dataframe thead th {\n",
       "        text-align: right;\n",
       "    }\n",
       "</style>\n",
       "<table border=\"1\" class=\"dataframe\">\n",
       "  <thead>\n",
       "    <tr style=\"text-align: right;\">\n",
       "      <th></th>\n",
       "      <th>user_id</th>\n",
       "      <th>status</th>\n",
       "      <th>test_time</th>\n",
       "      <th>offer_id</th>\n",
       "      <th>offer_duration</th>\n",
       "      <th>offer_type</th>\n",
       "    </tr>\n",
       "  </thead>\n",
       "  <tbody>\n",
       "    <tr>\n",
       "      <th>0</th>\n",
       "      <td>78afa995795e4d85b5d9ceeca43f5fef</td>\n",
       "      <td>offer received</td>\n",
       "      <td>0.00</td>\n",
       "      <td>9b98b8c7a33c4b65b9aebfe6a799e6d9</td>\n",
       "      <td>7.0</td>\n",
       "      <td>bogo</td>\n",
       "    </tr>\n",
       "    <tr>\n",
       "      <th>1</th>\n",
       "      <td>78afa995795e4d85b5d9ceeca43f5fef</td>\n",
       "      <td>offer viewed</td>\n",
       "      <td>0.25</td>\n",
       "      <td>9b98b8c7a33c4b65b9aebfe6a799e6d9</td>\n",
       "      <td>7.0</td>\n",
       "      <td>bogo</td>\n",
       "    </tr>\n",
       "    <tr>\n",
       "      <th>2</th>\n",
       "      <td>78afa995795e4d85b5d9ceeca43f5fef</td>\n",
       "      <td>transaction</td>\n",
       "      <td>5.50</td>\n",
       "      <td>9b98b8c7a33c4b65b9aebfe6a799e6d9</td>\n",
       "      <td>7.0</td>\n",
       "      <td>bogo</td>\n",
       "    </tr>\n",
       "    <tr>\n",
       "      <th>3</th>\n",
       "      <td>78afa995795e4d85b5d9ceeca43f5fef</td>\n",
       "      <td>offer completed</td>\n",
       "      <td>5.50</td>\n",
       "      <td>9b98b8c7a33c4b65b9aebfe6a799e6d9</td>\n",
       "      <td>7.0</td>\n",
       "      <td>bogo</td>\n",
       "    </tr>\n",
       "    <tr>\n",
       "      <th>4</th>\n",
       "      <td>78afa995795e4d85b5d9ceeca43f5fef</td>\n",
       "      <td>transaction</td>\n",
       "      <td>6.00</td>\n",
       "      <td>9b98b8c7a33c4b65b9aebfe6a799e6d9</td>\n",
       "      <td>7.0</td>\n",
       "      <td>bogo</td>\n",
       "    </tr>\n",
       "    <tr>\n",
       "      <th>...</th>\n",
       "      <td>...</td>\n",
       "      <td>...</td>\n",
       "      <td>...</td>\n",
       "      <td>...</td>\n",
       "      <td>...</td>\n",
       "      <td>...</td>\n",
       "    </tr>\n",
       "    <tr>\n",
       "      <th>272757</th>\n",
       "      <td>9fcbff4f8d7241faa4ab8a9d19c8a812</td>\n",
       "      <td>offer viewed</td>\n",
       "      <td>21.00</td>\n",
       "      <td>3f207df678b143eea3cee63160fa8bed</td>\n",
       "      <td>4.0</td>\n",
       "      <td>informational</td>\n",
       "    </tr>\n",
       "    <tr>\n",
       "      <th>272758</th>\n",
       "      <td>9fcbff4f8d7241faa4ab8a9d19c8a812</td>\n",
       "      <td>offer received</td>\n",
       "      <td>24.00</td>\n",
       "      <td>4d5c57ea9a6940dd891ad53e9dbe8da0</td>\n",
       "      <td>5.0</td>\n",
       "      <td>bogo</td>\n",
       "    </tr>\n",
       "    <tr>\n",
       "      <th>272759</th>\n",
       "      <td>9fcbff4f8d7241faa4ab8a9d19c8a812</td>\n",
       "      <td>offer viewed</td>\n",
       "      <td>24.00</td>\n",
       "      <td>4d5c57ea9a6940dd891ad53e9dbe8da0</td>\n",
       "      <td>5.0</td>\n",
       "      <td>bogo</td>\n",
       "    </tr>\n",
       "    <tr>\n",
       "      <th>272760</th>\n",
       "      <td>3045af4e98794a04a5542d3eac939b1f</td>\n",
       "      <td>offer received</td>\n",
       "      <td>24.00</td>\n",
       "      <td>4d5c57ea9a6940dd891ad53e9dbe8da0</td>\n",
       "      <td>5.0</td>\n",
       "      <td>bogo</td>\n",
       "    </tr>\n",
       "    <tr>\n",
       "      <th>272761</th>\n",
       "      <td>3045af4e98794a04a5542d3eac939b1f</td>\n",
       "      <td>offer viewed</td>\n",
       "      <td>24.00</td>\n",
       "      <td>4d5c57ea9a6940dd891ad53e9dbe8da0</td>\n",
       "      <td>5.0</td>\n",
       "      <td>bogo</td>\n",
       "    </tr>\n",
       "  </tbody>\n",
       "</table>\n",
       "<p>272762 rows × 6 columns</p>\n",
       "</div>"
      ],
      "text/plain": [
       "                                 user_id           status  test_time  \\\n",
       "0       78afa995795e4d85b5d9ceeca43f5fef   offer received       0.00   \n",
       "1       78afa995795e4d85b5d9ceeca43f5fef     offer viewed       0.25   \n",
       "2       78afa995795e4d85b5d9ceeca43f5fef      transaction       5.50   \n",
       "3       78afa995795e4d85b5d9ceeca43f5fef  offer completed       5.50   \n",
       "4       78afa995795e4d85b5d9ceeca43f5fef      transaction       6.00   \n",
       "...                                  ...              ...        ...   \n",
       "272757  9fcbff4f8d7241faa4ab8a9d19c8a812     offer viewed      21.00   \n",
       "272758  9fcbff4f8d7241faa4ab8a9d19c8a812   offer received      24.00   \n",
       "272759  9fcbff4f8d7241faa4ab8a9d19c8a812     offer viewed      24.00   \n",
       "272760  3045af4e98794a04a5542d3eac939b1f   offer received      24.00   \n",
       "272761  3045af4e98794a04a5542d3eac939b1f     offer viewed      24.00   \n",
       "\n",
       "                                offer_id  offer_duration     offer_type  \n",
       "0       9b98b8c7a33c4b65b9aebfe6a799e6d9             7.0           bogo  \n",
       "1       9b98b8c7a33c4b65b9aebfe6a799e6d9             7.0           bogo  \n",
       "2       9b98b8c7a33c4b65b9aebfe6a799e6d9             7.0           bogo  \n",
       "3       9b98b8c7a33c4b65b9aebfe6a799e6d9             7.0           bogo  \n",
       "4       9b98b8c7a33c4b65b9aebfe6a799e6d9             7.0           bogo  \n",
       "...                                  ...             ...            ...  \n",
       "272757  3f207df678b143eea3cee63160fa8bed             4.0  informational  \n",
       "272758  4d5c57ea9a6940dd891ad53e9dbe8da0             5.0           bogo  \n",
       "272759  4d5c57ea9a6940dd891ad53e9dbe8da0             5.0           bogo  \n",
       "272760  4d5c57ea9a6940dd891ad53e9dbe8da0             5.0           bogo  \n",
       "272761  4d5c57ea9a6940dd891ad53e9dbe8da0             5.0           bogo  \n",
       "\n",
       "[272762 rows x 6 columns]"
      ]
     },
     "execution_count": 297,
     "metadata": {},
     "output_type": "execute_result"
    }
   ],
   "source": [
    "merged.update(merged.groupby(['user_id']).ffill())\n",
    "merged"
   ]
  },
  {
   "cell_type": "code",
   "execution_count": null,
   "metadata": {},
   "outputs": [],
   "source": []
  },
  {
   "cell_type": "code",
   "execution_count": null,
   "metadata": {},
   "outputs": [],
   "source": []
  },
  {
   "cell_type": "markdown",
   "metadata": {},
   "source": [
    "Of the people who didn't viewed the bogo, discount or informational offer, how many did buy something nonetheless?"
   ]
  },
  {
   "cell_type": "code",
   "execution_count": 299,
   "metadata": {},
   "outputs": [
    {
     "ename": "KeyError",
     "evalue": "'reward_received'",
     "output_type": "error",
     "traceback": [
      "\u001b[1;31m---------------------------------------------------------------------------\u001b[0m",
      "\u001b[1;31mKeyError\u001b[0m                                  Traceback (most recent call last)",
      "File \u001b[1;32m~\\AppData\\Roaming\\Python\\Python311\\site-packages\\pandas\\core\\indexes\\base.py:3791\u001b[0m, in \u001b[0;36mIndex.get_loc\u001b[1;34m(self, key)\u001b[0m\n\u001b[0;32m   3790\u001b[0m \u001b[38;5;28;01mtry\u001b[39;00m:\n\u001b[1;32m-> 3791\u001b[0m     \u001b[38;5;28;01mreturn\u001b[39;00m \u001b[38;5;28;43mself\u001b[39;49m\u001b[38;5;241;43m.\u001b[39;49m\u001b[43m_engine\u001b[49m\u001b[38;5;241;43m.\u001b[39;49m\u001b[43mget_loc\u001b[49m\u001b[43m(\u001b[49m\u001b[43mcasted_key\u001b[49m\u001b[43m)\u001b[49m\n\u001b[0;32m   3792\u001b[0m \u001b[38;5;28;01mexcept\u001b[39;00m \u001b[38;5;167;01mKeyError\u001b[39;00m \u001b[38;5;28;01mas\u001b[39;00m err:\n",
      "File \u001b[1;32mindex.pyx:152\u001b[0m, in \u001b[0;36mpandas._libs.index.IndexEngine.get_loc\u001b[1;34m()\u001b[0m\n",
      "File \u001b[1;32mindex.pyx:181\u001b[0m, in \u001b[0;36mpandas._libs.index.IndexEngine.get_loc\u001b[1;34m()\u001b[0m\n",
      "File \u001b[1;32mpandas\\_libs\\hashtable_class_helper.pxi:7080\u001b[0m, in \u001b[0;36mpandas._libs.hashtable.PyObjectHashTable.get_item\u001b[1;34m()\u001b[0m\n",
      "File \u001b[1;32mpandas\\_libs\\hashtable_class_helper.pxi:7088\u001b[0m, in \u001b[0;36mpandas._libs.hashtable.PyObjectHashTable.get_item\u001b[1;34m()\u001b[0m\n",
      "\u001b[1;31mKeyError\u001b[0m: 'reward_received'",
      "\nThe above exception was the direct cause of the following exception:\n",
      "\u001b[1;31mKeyError\u001b[0m                                  Traceback (most recent call last)",
      "Cell \u001b[1;32mIn[299], line 2\u001b[0m\n\u001b[0;32m      1\u001b[0m \u001b[38;5;66;03m# difficulty level overall\u001b[39;00m\n\u001b[1;32m----> 2\u001b[0m \u001b[38;5;28mprint\u001b[39m(\u001b[38;5;124m'\u001b[39m\u001b[38;5;124mDifficulty level overall:\u001b[39m\u001b[38;5;124m'\u001b[39m, merged[(\u001b[43mmerged\u001b[49m\u001b[43m[\u001b[49m\u001b[38;5;124;43m'\u001b[39;49m\u001b[38;5;124;43mreward_received\u001b[39;49m\u001b[38;5;124;43m'\u001b[39;49m\u001b[43m]\u001b[49m\u001b[38;5;241m.\u001b[39mnotnull()) \u001b[38;5;241m&\u001b[39m (merged[\u001b[38;5;124m'\u001b[39m\u001b[38;5;124moffer_difficulty\u001b[39m\u001b[38;5;124m'\u001b[39m]\u001b[38;5;241m.\u001b[39mnotnull())][\u001b[38;5;124m'\u001b[39m\u001b[38;5;124moffer_difficulty\u001b[39m\u001b[38;5;124m'\u001b[39m]\u001b[38;5;241m.\u001b[39mmean())\n\u001b[0;32m      3\u001b[0m \u001b[38;5;66;03m# number of users who completed an offer\u001b[39;00m\n\u001b[0;32m      4\u001b[0m \u001b[38;5;28mprint\u001b[39m(\u001b[38;5;124m'\u001b[39m\u001b[38;5;124mTotal unique users:\u001b[39m\u001b[38;5;124m'\u001b[39m, merged[merged[\u001b[38;5;124m'\u001b[39m\u001b[38;5;124mreward_received\u001b[39m\u001b[38;5;124m'\u001b[39m]\u001b[38;5;241m.\u001b[39mnotnull()][\u001b[38;5;124m'\u001b[39m\u001b[38;5;124muser_id\u001b[39m\u001b[38;5;124m'\u001b[39m]\u001b[38;5;241m.\u001b[39mnunique())\n",
      "File \u001b[1;32m~\\AppData\\Roaming\\Python\\Python311\\site-packages\\pandas\\core\\frame.py:3893\u001b[0m, in \u001b[0;36mDataFrame.__getitem__\u001b[1;34m(self, key)\u001b[0m\n\u001b[0;32m   3891\u001b[0m \u001b[38;5;28;01mif\u001b[39;00m \u001b[38;5;28mself\u001b[39m\u001b[38;5;241m.\u001b[39mcolumns\u001b[38;5;241m.\u001b[39mnlevels \u001b[38;5;241m>\u001b[39m \u001b[38;5;241m1\u001b[39m:\n\u001b[0;32m   3892\u001b[0m     \u001b[38;5;28;01mreturn\u001b[39;00m \u001b[38;5;28mself\u001b[39m\u001b[38;5;241m.\u001b[39m_getitem_multilevel(key)\n\u001b[1;32m-> 3893\u001b[0m indexer \u001b[38;5;241m=\u001b[39m \u001b[38;5;28;43mself\u001b[39;49m\u001b[38;5;241;43m.\u001b[39;49m\u001b[43mcolumns\u001b[49m\u001b[38;5;241;43m.\u001b[39;49m\u001b[43mget_loc\u001b[49m\u001b[43m(\u001b[49m\u001b[43mkey\u001b[49m\u001b[43m)\u001b[49m\n\u001b[0;32m   3894\u001b[0m \u001b[38;5;28;01mif\u001b[39;00m is_integer(indexer):\n\u001b[0;32m   3895\u001b[0m     indexer \u001b[38;5;241m=\u001b[39m [indexer]\n",
      "File \u001b[1;32m~\\AppData\\Roaming\\Python\\Python311\\site-packages\\pandas\\core\\indexes\\base.py:3798\u001b[0m, in \u001b[0;36mIndex.get_loc\u001b[1;34m(self, key)\u001b[0m\n\u001b[0;32m   3793\u001b[0m     \u001b[38;5;28;01mif\u001b[39;00m \u001b[38;5;28misinstance\u001b[39m(casted_key, \u001b[38;5;28mslice\u001b[39m) \u001b[38;5;129;01mor\u001b[39;00m (\n\u001b[0;32m   3794\u001b[0m         \u001b[38;5;28misinstance\u001b[39m(casted_key, abc\u001b[38;5;241m.\u001b[39mIterable)\n\u001b[0;32m   3795\u001b[0m         \u001b[38;5;129;01mand\u001b[39;00m \u001b[38;5;28many\u001b[39m(\u001b[38;5;28misinstance\u001b[39m(x, \u001b[38;5;28mslice\u001b[39m) \u001b[38;5;28;01mfor\u001b[39;00m x \u001b[38;5;129;01min\u001b[39;00m casted_key)\n\u001b[0;32m   3796\u001b[0m     ):\n\u001b[0;32m   3797\u001b[0m         \u001b[38;5;28;01mraise\u001b[39;00m InvalidIndexError(key)\n\u001b[1;32m-> 3798\u001b[0m     \u001b[38;5;28;01mraise\u001b[39;00m \u001b[38;5;167;01mKeyError\u001b[39;00m(key) \u001b[38;5;28;01mfrom\u001b[39;00m \u001b[38;5;21;01merr\u001b[39;00m\n\u001b[0;32m   3799\u001b[0m \u001b[38;5;28;01mexcept\u001b[39;00m \u001b[38;5;167;01mTypeError\u001b[39;00m:\n\u001b[0;32m   3800\u001b[0m     \u001b[38;5;66;03m# If we have a listlike key, _check_indexing_error will raise\u001b[39;00m\n\u001b[0;32m   3801\u001b[0m     \u001b[38;5;66;03m#  InvalidIndexError. Otherwise we fall through and re-raise\u001b[39;00m\n\u001b[0;32m   3802\u001b[0m     \u001b[38;5;66;03m#  the TypeError.\u001b[39;00m\n\u001b[0;32m   3803\u001b[0m     \u001b[38;5;28mself\u001b[39m\u001b[38;5;241m.\u001b[39m_check_indexing_error(key)\n",
      "\u001b[1;31mKeyError\u001b[0m: 'reward_received'"
     ]
    }
   ],
   "source": [
    "# difficulty level overall\n",
    "print('Difficulty level overall:', merged[(merged['reward_received'].notnull()) & (merged['offer_difficulty'].notnull())]['offer_difficulty'].mean())\n",
    "# number of users who completed an offer\n",
    "print('Total unique users:', merged[merged['reward_received'].notnull()]['user_id'].nunique())\n",
    "\n",
    "# difficulty level bogo\n",
    "print('Difficulty level bogo:', merged[(merged['reward_received'].notnull()) & (merged['offer_difficulty'].notnull()) & (merged['offer_type'] == 'bogo')]['offer_difficulty'].mean())\n",
    "#number of users who completed a bogo offer\n",
    "print('Total unique users who completed a bogo offer:', merged[(merged['reward_received'].notnull()) & (merged['offer_type'] == 'bogo')]['user_id'].nunique())\n",
    "\n",
    "# difficulty level discount\n",
    "print('Difficulty level discount:', merged[(merged['reward_received'].notnull()) & (merged['offer_difficulty'].notnull()) & (merged['offer_type'] == 'discount')]['offer_difficulty'].mean())\n",
    "#number of users who completed a discount offer\n",
    "print('Total unique users who completed a discount offer:', merged[(merged['reward_received'].notnull()) & (merged['offer_type'] == 'discount')]['user_id'].nunique())"
   ]
  },
  {
   "cell_type": "code",
   "execution_count": null,
   "metadata": {},
   "outputs": [
    {
     "name": "stdout",
     "output_type": "stream",
     "text": [
      "Number of users who haven't seen an bogo offer 4498\n",
      "Unique ssers who haven't seen an bogo offer 888\n"
     ]
    }
   ],
   "source": [
    "# number of users who haven't seen bogo offer\n",
    "print(\"Number of users who haven't seen an bogo offer\", merged[(merged['offer_type'] == 'bogo') & (merged['status'] == 'offer received')]['user_id'].count() - merged[(merged['offer_type'] == 'bogo') & (merged['status'] == 'offer viewed')]['user_id'].count())\n",
    "print(\"Unique ssers who haven't seen an bogo offer\", merged[(merged['offer_type'] == 'bogo') & (merged['status'] == 'offer received')]['user_id'].nunique() - merged[(merged['offer_type'] == 'bogo') & (merged['status'] == 'offer viewed')]['user_id'].nunique())\n",
    "\n"
   ]
  },
  {
   "cell_type": "markdown",
   "metadata": {},
   "source": [
    "### Data Preparation to examine Question 1:"
   ]
  }
 ],
 "metadata": {
  "kernelspec": {
   "display_name": "Python 3",
   "language": "python",
   "name": "python3"
  },
  "language_info": {
   "codemirror_mode": {
    "name": "ipython",
    "version": 3
   },
   "file_extension": ".py",
   "mimetype": "text/x-python",
   "name": "python",
   "nbconvert_exporter": "python",
   "pygments_lexer": "ipython3",
   "version": "3.11.3"
  }
 },
 "nbformat": 4,
 "nbformat_minor": 2
}
