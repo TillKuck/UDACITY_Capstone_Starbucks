{
 "cells": [
  {
   "cell_type": "markdown",
   "metadata": {},
   "source": [
    "# Starbucks Capstone Challenge\n",
    "\n",
    "## Business Understanding\n",
    "\n",
    "### Introduction\n",
    "\n",
    "This data set contains simulated data that mimics customer behavior on the Starbucks rewards mobile app. Once every few days, Starbucks sends out an offer to users of the mobile app. An offer can be merely an advertisement for a drink or an actual offer such as a discount or BOGO (buy one get one free). Some users might not receive any offer during certain weeks. \n",
    "\n",
    "Not all users receive the same offer, and that is the challenge to solve with this data set.\n",
    "\n",
    "Your task is to combine transaction, demographic and offer data to determine which demographic groups respond best to which offer type. This data set is a simplified version of the real Starbucks app because the underlying simulator only has one product whereas Starbucks actually sells dozens of products.\n",
    "\n",
    "Every offer has a validity period before the offer expires. As an example, a BOGO offer might be valid for only 5 days. You'll see in the data set that informational offers have a validity period even though these ads are merely providing information about a product; for example, if an informational offer has 7 days of validity, you can assume the customer is feeling the influence of the offer for 7 days after receiving the advertisement.\n",
    "\n",
    "You'll be given transactional data showing user purchases made on the app including the timestamp of purchase and the amount of money spent on a purchase. This transactional data also has a record for each offer that a user receives as well as a record for when a user actually views the offer. There are also records for when a user completes an offer. "
   ]
  },
  {
   "cell_type": "markdown",
   "metadata": {},
   "source": [
    "### Data Sets\n",
    "\n",
    "The data is contained in three files:\n",
    "\n",
    "* portfolio.json - containing offer ids and meta data about each offer (duration, type, etc.)\n",
    "* profile.json - demographic data for each customer\n",
    "* transcript.json - records for transactions, offers received, offers viewed, and offers completed\n",
    "\n",
    "Here is the schema and explanation of each variable in the files:\n",
    "\n",
    "**portfolio.json**\n",
    "* id (string) - offer id\n",
    "* offer_type (string) - type of offer ie BOGO, discount, informational\n",
    "* difficulty (int) - minimum required spend to complete an offer\n",
    "* reward (int) - reward given for completing an offer\n",
    "* duration (int) - time for offer to be open, in days\n",
    "* channels (list of strings)\n",
    "\n",
    "**profile.json**\n",
    "* age (int) - age of the customer \n",
    "* became_member_on (int) - date when customer created an app account\n",
    "* gender (str) - gender of the customer (note some entries contain 'O' for other rather than M or F)\n",
    "* id (str) - customer id\n",
    "* income (float) - customer's income\n",
    "\n",
    "**transcript.json**\n",
    "* event (str) - record description (ie transaction, offer received, offer viewed, etc.)\n",
    "* person (str) - customer id\n",
    "* time (int) - time in hours since start of test. The data begins at time t=0\n",
    "* value - (dict of strings) - either an offer id or transaction amount depending on the record"
   ]
  },
  {
   "cell_type": "markdown",
   "metadata": {},
   "source": [
    "### Problem Statement\n",
    "Understanding user behavior and campaign effectiveness is paramount to driving strategic decision-making. Within this context, we aim to dissect the dynamics of Starbucks’ renowned Rewards program to ascertain its efficacy in driving user engagement. Through a rigorous and analytical approach, our objective is to provide valuable insights that inform and optimize Starbucks’ marketing strategies, ultimately enhancing the overall effectiveness of its Rewards program in fostering customer loyalty and satisfaction.  \n",
    "\n",
    "Hence the central research questions to analyze will be:  \n",
    "\n",
    "1. Can a machine-learning classification model accurately predict whether a user will respond to a specific offer type?\n",
    "2. What factors influence a user’s response to a specific offer type within the rewards program?  \n",
    "\n",
    "#### Metrics\n",
    "To assess the performance of the classification model, two metrics are utilized:  \n",
    "\n",
    "Accuracy: Accuracy provides a metric to quantify the model’s effectiveness in correctly classifying instances. When compared with a baseline that always predicts the majority class, accuracy measures the uplift achieved by the model, highlighting its ability to surpass the simplistic approach of the baseline.  \n",
    "\n",
    "AUC Score: The AUC (Area Under the ROC Curve) score is particularly useful for evaluating models trained on imbalanced datasets. In imbalanced datasets, where one class is significantly more prevalent than the other, traditional accuracy metrics can be misleading, as a naive model can achieve high accuracy by simply predicting the majority class.  \n",
    "\n",
    "F1-Score: The F1 score is a metric commonly used to evaluate the performance of a classification model on imbalanced data. It is the harmonic mean of precision and recall, combining both measures into a single value. Precision measures the proportion of true positive predictions out of all instances predicted as positive. Recall measures the proportion of true positive predictions out of all actual positive instances.  "
   ]
  }
 ],
 "metadata": {
  "kernelspec": {
   "display_name": "Python 3",
   "language": "python",
   "name": "python3"
  },
  "language_info": {
   "codemirror_mode": {
    "name": "ipython",
    "version": 3
   },
   "file_extension": ".py",
   "mimetype": "text/x-python",
   "name": "python",
   "nbconvert_exporter": "python",
   "pygments_lexer": "ipython3",
   "version": "3.6.3"
  }
 },
 "nbformat": 4,
 "nbformat_minor": 2
}
