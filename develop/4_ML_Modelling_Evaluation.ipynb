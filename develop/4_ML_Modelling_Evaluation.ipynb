{
 "cells": [
  {
   "cell_type": "markdown",
   "metadata": {},
   "source": [
    "# ML Modelling & Evaluation of Models"
   ]
  },
  {
   "cell_type": "markdown",
   "metadata": {},
   "source": [
    "## Introduction\n",
    "\n",
    "In this notebook, I will run the machine learning model for all three models:  \n",
    "   1) model_bogo  \n",
    "   2) model_discount \n",
    "   3) model_info\n",
    "\n",
    "As machine learning model, I will use XGBoost since it's especially good with tabular data and imblanced datasets."
   ]
  },
  {
   "cell_type": "markdown",
   "metadata": {},
   "source": [
    "### Load libraries, xgboost model and datasets"
   ]
  },
  {
   "cell_type": "code",
   "execution_count": 3,
   "metadata": {},
   "outputs": [],
   "source": [
    "import pandas as pd\n",
    "import numpy as np\n",
    "import matplotlib.pyplot as plt\n",
    "import seaborn as sns\n",
    "\n",
    "# import sys\n",
    "# sys.path.append(\"..\")\n",
    "# from source.utils import transform_dict_col_to_col"
   ]
  },
  {
   "cell_type": "code",
   "execution_count": 4,
   "metadata": {},
   "outputs": [],
   "source": [
    "bogo_data = pd.read_pickle('../data/bogo_data.pkl')\n",
    "discount_data = pd.read_pickle('../data/discount_data.pkl')\n",
    "info_data = pd.read_pickle('../data/info_data.pkl')"
   ]
  },
  {
   "cell_type": "code",
   "execution_count": 5,
   "metadata": {},
   "outputs": [
    {
     "name": "stdout",
     "output_type": "stream",
     "text": [
      "<class 'pandas.core.frame.DataFrame'>\n",
      "RangeIndex: 16866 entries, 0 to 16865\n",
      "Data columns (total 14 columns):\n",
      " #   Column            Non-Null Count  Dtype  \n",
      "---  ------            --------------  -----  \n",
      " 0   offer_id          16866 non-null  object \n",
      " 1   send_offer        16866 non-null  int64  \n",
      " 2   gender            16866 non-null  object \n",
      " 3   age               16866 non-null  int64  \n",
      " 4   income            16866 non-null  float64\n",
      " 5   member_days       16866 non-null  int64  \n",
      " 6   offers_received   16866 non-null  int64  \n",
      " 7   offer_reward      16866 non-null  int64  \n",
      " 8   offer_difficulty  16866 non-null  int64  \n",
      " 9   offer_duration    16866 non-null  int64  \n",
      " 10  email             16866 non-null  int64  \n",
      " 11  mobile            16866 non-null  int64  \n",
      " 12  social            16866 non-null  int64  \n",
      " 13  web               16866 non-null  int64  \n",
      "dtypes: float64(1), int64(11), object(2)\n",
      "memory usage: 1.8+ MB\n"
     ]
    }
   ],
   "source": [
    "bogo_data.info()"
   ]
  },
  {
   "cell_type": "markdown",
   "metadata": {},
   "source": [
    "### Machine Learning Modelling"
   ]
  },
  {
   "cell_type": "code",
   "execution_count": null,
   "metadata": {},
   "outputs": [],
   "source": []
  }
 ],
 "metadata": {
  "kernelspec": {
   "display_name": "Python 3",
   "language": "python",
   "name": "python3"
  },
  "language_info": {
   "codemirror_mode": {
    "name": "ipython",
    "version": 3
   },
   "file_extension": ".py",
   "mimetype": "text/x-python",
   "name": "python",
   "nbconvert_exporter": "python",
   "pygments_lexer": "ipython3",
   "version": "3.11.3"
  }
 },
 "nbformat": 4,
 "nbformat_minor": 2
}
