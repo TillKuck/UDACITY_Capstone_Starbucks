{
 "cells": [
  {
   "cell_type": "markdown",
   "metadata": {},
   "source": [
    "# ML Modelling & Evaluation of Models"
   ]
  },
  {
   "cell_type": "markdown",
   "metadata": {},
   "source": [
    "## Introduction\n",
    "\n",
    "In this notebook, I will run the machine learning model for all three models:  \n",
    "   1) model_bogo  \n",
    "   2) model_discount \n",
    "   3) model_info\n",
    "\n",
    "As machine learning model, I will use XGBoost since it's especially good with tabular data and imblanced datasets."
   ]
  },
  {
   "cell_type": "markdown",
   "metadata": {},
   "source": [
    "### Load libraries, xgboost model and datasets"
   ]
  },
  {
   "cell_type": "code",
   "execution_count": 1,
   "metadata": {},
   "outputs": [],
   "source": [
    "import sys\n",
    "sys.path.append(\"..\")\n",
    "from source.utils import load_data\n",
    "from source.model import XGBoostModel\n"
   ]
  },
  {
   "cell_type": "code",
   "execution_count": 2,
   "metadata": {},
   "outputs": [],
   "source": [
    "# initiate XGBoost class\n",
    "model = XGBoostModel()"
   ]
  },
  {
   "cell_type": "code",
   "execution_count": 3,
   "metadata": {},
   "outputs": [],
   "source": [
    "bogo_data = load_data('../data/bogo_data.pkl')\n",
    "discount_data = load_data('../data/discount_data.pkl')\n",
    "info_data = load_data('../data/info_data.pkl')"
   ]
  },
  {
   "cell_type": "markdown",
   "metadata": {},
   "source": [
    "### Machine Learning Modelling"
   ]
  },
  {
   "cell_type": "markdown",
   "metadata": {},
   "source": [
    "### Model Evaluation"
   ]
  },
  {
   "cell_type": "markdown",
   "metadata": {},
   "source": [
    "#### bogo data\n",
    "\n",
    "We start off with the bogo data. Let's see how good our XGBoost model performs."
   ]
  },
  {
   "cell_type": "code",
   "execution_count": 4,
   "metadata": {},
   "outputs": [
    {
     "name": "stdout",
     "output_type": "stream",
     "text": [
      "Fitting 5 folds for each of 27 candidates, totalling 135 fits\n",
      "[CV 1/5] END classifier__learning_rate=0.1, classifier__max_depth=3, classifier__n_estimators=100, classifier__objective=binary:logistic, classifier__scale_pos_weight=0.21;, score=0.699 total time=   0.1s\n",
      "[CV 2/5] END classifier__learning_rate=0.1, classifier__max_depth=3, classifier__n_estimators=100, classifier__objective=binary:logistic, classifier__scale_pos_weight=0.21;, score=0.692 total time=   0.2s\n",
      "[CV 3/5] END classifier__learning_rate=0.1, classifier__max_depth=3, classifier__n_estimators=100, classifier__objective=binary:logistic, classifier__scale_pos_weight=0.21;, score=0.708 total time=   0.0s\n",
      "[CV 4/5] END classifier__learning_rate=0.1, classifier__max_depth=3, classifier__n_estimators=100, classifier__objective=binary:logistic, classifier__scale_pos_weight=0.21;, score=0.697 total time=   0.1s\n",
      "[CV 5/5] END classifier__learning_rate=0.1, classifier__max_depth=3, classifier__n_estimators=100, classifier__objective=binary:logistic, classifier__scale_pos_weight=0.21;, score=0.701 total time=   0.1s\n",
      "[CV 1/5] END classifier__learning_rate=0.1, classifier__max_depth=3, classifier__n_estimators=200, classifier__objective=binary:logistic, classifier__scale_pos_weight=0.21;, score=0.704 total time=   0.2s\n",
      "[CV 2/5] END classifier__learning_rate=0.1, classifier__max_depth=3, classifier__n_estimators=200, classifier__objective=binary:logistic, classifier__scale_pos_weight=0.21;, score=0.699 total time=   0.2s\n",
      "[CV 3/5] END classifier__learning_rate=0.1, classifier__max_depth=3, classifier__n_estimators=200, classifier__objective=binary:logistic, classifier__scale_pos_weight=0.21;, score=0.720 total time=   0.2s\n",
      "[CV 4/5] END classifier__learning_rate=0.1, classifier__max_depth=3, classifier__n_estimators=200, classifier__objective=binary:logistic, classifier__scale_pos_weight=0.21;, score=0.703 total time=   0.2s\n",
      "[CV 5/5] END classifier__learning_rate=0.1, classifier__max_depth=3, classifier__n_estimators=200, classifier__objective=binary:logistic, classifier__scale_pos_weight=0.21;, score=0.705 total time=   0.2s\n",
      "[CV 1/5] END classifier__learning_rate=0.1, classifier__max_depth=3, classifier__n_estimators=300, classifier__objective=binary:logistic, classifier__scale_pos_weight=0.21;, score=0.714 total time=   0.3s\n",
      "[CV 2/5] END classifier__learning_rate=0.1, classifier__max_depth=3, classifier__n_estimators=300, classifier__objective=binary:logistic, classifier__scale_pos_weight=0.21;, score=0.703 total time=   0.4s\n",
      "[CV 3/5] END classifier__learning_rate=0.1, classifier__max_depth=3, classifier__n_estimators=300, classifier__objective=binary:logistic, classifier__scale_pos_weight=0.21;, score=0.722 total time=   0.4s\n",
      "[CV 4/5] END classifier__learning_rate=0.1, classifier__max_depth=3, classifier__n_estimators=300, classifier__objective=binary:logistic, classifier__scale_pos_weight=0.21;, score=0.705 total time=   0.8s\n",
      "[CV 5/5] END classifier__learning_rate=0.1, classifier__max_depth=3, classifier__n_estimators=300, classifier__objective=binary:logistic, classifier__scale_pos_weight=0.21;, score=0.711 total time=   0.6s\n",
      "[CV 1/5] END classifier__learning_rate=0.1, classifier__max_depth=5, classifier__n_estimators=100, classifier__objective=binary:logistic, classifier__scale_pos_weight=0.21;, score=0.716 total time=   0.3s\n",
      "[CV 2/5] END classifier__learning_rate=0.1, classifier__max_depth=5, classifier__n_estimators=100, classifier__objective=binary:logistic, classifier__scale_pos_weight=0.21;, score=0.701 total time=   0.1s\n",
      "[CV 3/5] END classifier__learning_rate=0.1, classifier__max_depth=5, classifier__n_estimators=100, classifier__objective=binary:logistic, classifier__scale_pos_weight=0.21;, score=0.721 total time=   0.1s\n",
      "[CV 4/5] END classifier__learning_rate=0.1, classifier__max_depth=5, classifier__n_estimators=100, classifier__objective=binary:logistic, classifier__scale_pos_weight=0.21;, score=0.708 total time=   0.1s\n",
      "[CV 5/5] END classifier__learning_rate=0.1, classifier__max_depth=5, classifier__n_estimators=100, classifier__objective=binary:logistic, classifier__scale_pos_weight=0.21;, score=0.719 total time=   0.1s\n",
      "[CV 1/5] END classifier__learning_rate=0.1, classifier__max_depth=5, classifier__n_estimators=200, classifier__objective=binary:logistic, classifier__scale_pos_weight=0.21;, score=0.723 total time=   0.3s\n",
      "[CV 2/5] END classifier__learning_rate=0.1, classifier__max_depth=5, classifier__n_estimators=200, classifier__objective=binary:logistic, classifier__scale_pos_weight=0.21;, score=0.705 total time=   0.3s\n",
      "[CV 3/5] END classifier__learning_rate=0.1, classifier__max_depth=5, classifier__n_estimators=200, classifier__objective=binary:logistic, classifier__scale_pos_weight=0.21;, score=0.732 total time=   0.2s\n",
      "[CV 4/5] END classifier__learning_rate=0.1, classifier__max_depth=5, classifier__n_estimators=200, classifier__objective=binary:logistic, classifier__scale_pos_weight=0.21;, score=0.719 total time=   0.2s\n",
      "[CV 5/5] END classifier__learning_rate=0.1, classifier__max_depth=5, classifier__n_estimators=200, classifier__objective=binary:logistic, classifier__scale_pos_weight=0.21;, score=0.723 total time=   0.2s\n",
      "[CV 1/5] END classifier__learning_rate=0.1, classifier__max_depth=5, classifier__n_estimators=300, classifier__objective=binary:logistic, classifier__scale_pos_weight=0.21;, score=0.727 total time=   0.5s\n",
      "[CV 2/5] END classifier__learning_rate=0.1, classifier__max_depth=5, classifier__n_estimators=300, classifier__objective=binary:logistic, classifier__scale_pos_weight=0.21;, score=0.712 total time=   0.4s\n",
      "[CV 3/5] END classifier__learning_rate=0.1, classifier__max_depth=5, classifier__n_estimators=300, classifier__objective=binary:logistic, classifier__scale_pos_weight=0.21;, score=0.746 total time=   0.4s\n",
      "[CV 4/5] END classifier__learning_rate=0.1, classifier__max_depth=5, classifier__n_estimators=300, classifier__objective=binary:logistic, classifier__scale_pos_weight=0.21;, score=0.728 total time=   0.4s\n",
      "[CV 5/5] END classifier__learning_rate=0.1, classifier__max_depth=5, classifier__n_estimators=300, classifier__objective=binary:logistic, classifier__scale_pos_weight=0.21;, score=0.731 total time=   0.5s\n",
      "[CV 1/5] END classifier__learning_rate=0.1, classifier__max_depth=7, classifier__n_estimators=100, classifier__objective=binary:logistic, classifier__scale_pos_weight=0.21;, score=0.727 total time=   0.2s\n",
      "[CV 2/5] END classifier__learning_rate=0.1, classifier__max_depth=7, classifier__n_estimators=100, classifier__objective=binary:logistic, classifier__scale_pos_weight=0.21;, score=0.716 total time=   0.2s\n",
      "[CV 3/5] END classifier__learning_rate=0.1, classifier__max_depth=7, classifier__n_estimators=100, classifier__objective=binary:logistic, classifier__scale_pos_weight=0.21;, score=0.737 total time=   0.2s\n",
      "[CV 4/5] END classifier__learning_rate=0.1, classifier__max_depth=7, classifier__n_estimators=100, classifier__objective=binary:logistic, classifier__scale_pos_weight=0.21;, score=0.718 total time=   0.2s\n",
      "[CV 5/5] END classifier__learning_rate=0.1, classifier__max_depth=7, classifier__n_estimators=100, classifier__objective=binary:logistic, classifier__scale_pos_weight=0.21;, score=0.727 total time=   0.2s\n",
      "[CV 1/5] END classifier__learning_rate=0.1, classifier__max_depth=7, classifier__n_estimators=200, classifier__objective=binary:logistic, classifier__scale_pos_weight=0.21;, score=0.745 total time=   0.4s\n",
      "[CV 2/5] END classifier__learning_rate=0.1, classifier__max_depth=7, classifier__n_estimators=200, classifier__objective=binary:logistic, classifier__scale_pos_weight=0.21;, score=0.733 total time=   0.4s\n",
      "[CV 3/5] END classifier__learning_rate=0.1, classifier__max_depth=7, classifier__n_estimators=200, classifier__objective=binary:logistic, classifier__scale_pos_weight=0.21;, score=0.759 total time=   0.3s\n",
      "[CV 4/5] END classifier__learning_rate=0.1, classifier__max_depth=7, classifier__n_estimators=200, classifier__objective=binary:logistic, classifier__scale_pos_weight=0.21;, score=0.735 total time=   0.3s\n",
      "[CV 5/5] END classifier__learning_rate=0.1, classifier__max_depth=7, classifier__n_estimators=200, classifier__objective=binary:logistic, classifier__scale_pos_weight=0.21;, score=0.733 total time=   0.3s\n",
      "[CV 1/5] END classifier__learning_rate=0.1, classifier__max_depth=7, classifier__n_estimators=300, classifier__objective=binary:logistic, classifier__scale_pos_weight=0.21;, score=0.752 total time=   0.5s\n",
      "[CV 2/5] END classifier__learning_rate=0.1, classifier__max_depth=7, classifier__n_estimators=300, classifier__objective=binary:logistic, classifier__scale_pos_weight=0.21;, score=0.743 total time=   0.5s\n",
      "[CV 3/5] END classifier__learning_rate=0.1, classifier__max_depth=7, classifier__n_estimators=300, classifier__objective=binary:logistic, classifier__scale_pos_weight=0.21;, score=0.763 total time=   0.6s\n",
      "[CV 4/5] END classifier__learning_rate=0.1, classifier__max_depth=7, classifier__n_estimators=300, classifier__objective=binary:logistic, classifier__scale_pos_weight=0.21;, score=0.753 total time=   0.5s\n",
      "[CV 5/5] END classifier__learning_rate=0.1, classifier__max_depth=7, classifier__n_estimators=300, classifier__objective=binary:logistic, classifier__scale_pos_weight=0.21;, score=0.742 total time=   0.5s\n",
      "[CV 1/5] END classifier__learning_rate=0.01, classifier__max_depth=3, classifier__n_estimators=100, classifier__objective=binary:logistic, classifier__scale_pos_weight=0.21;, score=0.671 total time=   0.1s\n",
      "[CV 2/5] END classifier__learning_rate=0.01, classifier__max_depth=3, classifier__n_estimators=100, classifier__objective=binary:logistic, classifier__scale_pos_weight=0.21;, score=0.663 total time=   0.0s\n",
      "[CV 3/5] END classifier__learning_rate=0.01, classifier__max_depth=3, classifier__n_estimators=100, classifier__objective=binary:logistic, classifier__scale_pos_weight=0.21;, score=0.670 total time=   0.0s\n",
      "[CV 4/5] END classifier__learning_rate=0.01, classifier__max_depth=3, classifier__n_estimators=100, classifier__objective=binary:logistic, classifier__scale_pos_weight=0.21;, score=0.681 total time=   0.1s\n",
      "[CV 5/5] END classifier__learning_rate=0.01, classifier__max_depth=3, classifier__n_estimators=100, classifier__objective=binary:logistic, classifier__scale_pos_weight=0.21;, score=0.676 total time=   0.0s\n",
      "[CV 1/5] END classifier__learning_rate=0.01, classifier__max_depth=3, classifier__n_estimators=200, classifier__objective=binary:logistic, classifier__scale_pos_weight=0.21;, score=0.679 total time=   0.1s\n",
      "[CV 2/5] END classifier__learning_rate=0.01, classifier__max_depth=3, classifier__n_estimators=200, classifier__objective=binary:logistic, classifier__scale_pos_weight=0.21;, score=0.667 total time=   0.1s\n",
      "[CV 3/5] END classifier__learning_rate=0.01, classifier__max_depth=3, classifier__n_estimators=200, classifier__objective=binary:logistic, classifier__scale_pos_weight=0.21;, score=0.676 total time=   0.1s\n",
      "[CV 4/5] END classifier__learning_rate=0.01, classifier__max_depth=3, classifier__n_estimators=200, classifier__objective=binary:logistic, classifier__scale_pos_weight=0.21;, score=0.683 total time=   0.1s\n",
      "[CV 5/5] END classifier__learning_rate=0.01, classifier__max_depth=3, classifier__n_estimators=200, classifier__objective=binary:logistic, classifier__scale_pos_weight=0.21;, score=0.679 total time=   0.1s\n",
      "[CV 1/5] END classifier__learning_rate=0.01, classifier__max_depth=3, classifier__n_estimators=300, classifier__objective=binary:logistic, classifier__scale_pos_weight=0.21;, score=0.679 total time=   0.2s\n",
      "[CV 2/5] END classifier__learning_rate=0.01, classifier__max_depth=3, classifier__n_estimators=300, classifier__objective=binary:logistic, classifier__scale_pos_weight=0.21;, score=0.671 total time=   0.2s\n",
      "[CV 3/5] END classifier__learning_rate=0.01, classifier__max_depth=3, classifier__n_estimators=300, classifier__objective=binary:logistic, classifier__scale_pos_weight=0.21;, score=0.683 total time=   0.2s\n",
      "[CV 4/5] END classifier__learning_rate=0.01, classifier__max_depth=3, classifier__n_estimators=300, classifier__objective=binary:logistic, classifier__scale_pos_weight=0.21;, score=0.688 total time=   0.2s\n",
      "[CV 5/5] END classifier__learning_rate=0.01, classifier__max_depth=3, classifier__n_estimators=300, classifier__objective=binary:logistic, classifier__scale_pos_weight=0.21;, score=0.687 total time=   0.2s\n",
      "[CV 1/5] END classifier__learning_rate=0.01, classifier__max_depth=5, classifier__n_estimators=100, classifier__objective=binary:logistic, classifier__scale_pos_weight=0.21;, score=0.689 total time=   0.1s\n",
      "[CV 2/5] END classifier__learning_rate=0.01, classifier__max_depth=5, classifier__n_estimators=100, classifier__objective=binary:logistic, classifier__scale_pos_weight=0.21;, score=0.680 total time=   0.1s\n",
      "[CV 3/5] END classifier__learning_rate=0.01, classifier__max_depth=5, classifier__n_estimators=100, classifier__objective=binary:logistic, classifier__scale_pos_weight=0.21;, score=0.694 total time=   0.1s\n",
      "[CV 4/5] END classifier__learning_rate=0.01, classifier__max_depth=5, classifier__n_estimators=100, classifier__objective=binary:logistic, classifier__scale_pos_weight=0.21;, score=0.697 total time=   0.1s\n",
      "[CV 5/5] END classifier__learning_rate=0.01, classifier__max_depth=5, classifier__n_estimators=100, classifier__objective=binary:logistic, classifier__scale_pos_weight=0.21;, score=0.699 total time=   0.1s\n",
      "[CV 1/5] END classifier__learning_rate=0.01, classifier__max_depth=5, classifier__n_estimators=200, classifier__objective=binary:logistic, classifier__scale_pos_weight=0.21;, score=0.690 total time=   0.2s\n",
      "[CV 2/5] END classifier__learning_rate=0.01, classifier__max_depth=5, classifier__n_estimators=200, classifier__objective=binary:logistic, classifier__scale_pos_weight=0.21;, score=0.683 total time=   0.3s\n",
      "[CV 3/5] END classifier__learning_rate=0.01, classifier__max_depth=5, classifier__n_estimators=200, classifier__objective=binary:logistic, classifier__scale_pos_weight=0.21;, score=0.698 total time=   0.3s\n",
      "[CV 4/5] END classifier__learning_rate=0.01, classifier__max_depth=5, classifier__n_estimators=200, classifier__objective=binary:logistic, classifier__scale_pos_weight=0.21;, score=0.697 total time=   0.2s\n",
      "[CV 5/5] END classifier__learning_rate=0.01, classifier__max_depth=5, classifier__n_estimators=200, classifier__objective=binary:logistic, classifier__scale_pos_weight=0.21;, score=0.700 total time=   0.2s\n",
      "[CV 1/5] END classifier__learning_rate=0.01, classifier__max_depth=5, classifier__n_estimators=300, classifier__objective=binary:logistic, classifier__scale_pos_weight=0.21;, score=0.696 total time=   0.5s\n",
      "[CV 2/5] END classifier__learning_rate=0.01, classifier__max_depth=5, classifier__n_estimators=300, classifier__objective=binary:logistic, classifier__scale_pos_weight=0.21;, score=0.692 total time=   0.5s\n",
      "[CV 3/5] END classifier__learning_rate=0.01, classifier__max_depth=5, classifier__n_estimators=300, classifier__objective=binary:logistic, classifier__scale_pos_weight=0.21;, score=0.707 total time=   0.5s\n",
      "[CV 4/5] END classifier__learning_rate=0.01, classifier__max_depth=5, classifier__n_estimators=300, classifier__objective=binary:logistic, classifier__scale_pos_weight=0.21;, score=0.695 total time=   0.4s\n",
      "[CV 5/5] END classifier__learning_rate=0.01, classifier__max_depth=5, classifier__n_estimators=300, classifier__objective=binary:logistic, classifier__scale_pos_weight=0.21;, score=0.704 total time=   0.4s\n",
      "[CV 1/5] END classifier__learning_rate=0.01, classifier__max_depth=7, classifier__n_estimators=100, classifier__objective=binary:logistic, classifier__scale_pos_weight=0.21;, score=0.699 total time=   0.2s\n",
      "[CV 2/5] END classifier__learning_rate=0.01, classifier__max_depth=7, classifier__n_estimators=100, classifier__objective=binary:logistic, classifier__scale_pos_weight=0.21;, score=0.690 total time=   0.2s\n",
      "[CV 3/5] END classifier__learning_rate=0.01, classifier__max_depth=7, classifier__n_estimators=100, classifier__objective=binary:logistic, classifier__scale_pos_weight=0.21;, score=0.714 total time=   0.2s\n",
      "[CV 4/5] END classifier__learning_rate=0.01, classifier__max_depth=7, classifier__n_estimators=100, classifier__objective=binary:logistic, classifier__scale_pos_weight=0.21;, score=0.698 total time=   0.2s\n",
      "[CV 5/5] END classifier__learning_rate=0.01, classifier__max_depth=7, classifier__n_estimators=100, classifier__objective=binary:logistic, classifier__scale_pos_weight=0.21;, score=0.709 total time=   0.2s\n",
      "[CV 1/5] END classifier__learning_rate=0.01, classifier__max_depth=7, classifier__n_estimators=200, classifier__objective=binary:logistic, classifier__scale_pos_weight=0.21;, score=0.704 total time=   0.4s\n",
      "[CV 2/5] END classifier__learning_rate=0.01, classifier__max_depth=7, classifier__n_estimators=200, classifier__objective=binary:logistic, classifier__scale_pos_weight=0.21;, score=0.690 total time=   0.4s\n",
      "[CV 3/5] END classifier__learning_rate=0.01, classifier__max_depth=7, classifier__n_estimators=200, classifier__objective=binary:logistic, classifier__scale_pos_weight=0.21;, score=0.714 total time=   0.4s\n",
      "[CV 4/5] END classifier__learning_rate=0.01, classifier__max_depth=7, classifier__n_estimators=200, classifier__objective=binary:logistic, classifier__scale_pos_weight=0.21;, score=0.701 total time=   0.4s\n",
      "[CV 5/5] END classifier__learning_rate=0.01, classifier__max_depth=7, classifier__n_estimators=200, classifier__objective=binary:logistic, classifier__scale_pos_weight=0.21;, score=0.709 total time=   0.4s\n",
      "[CV 1/5] END classifier__learning_rate=0.01, classifier__max_depth=7, classifier__n_estimators=300, classifier__objective=binary:logistic, classifier__scale_pos_weight=0.21;, score=0.707 total time=   0.7s\n",
      "[CV 2/5] END classifier__learning_rate=0.01, classifier__max_depth=7, classifier__n_estimators=300, classifier__objective=binary:logistic, classifier__scale_pos_weight=0.21;, score=0.695 total time=   0.6s\n",
      "[CV 3/5] END classifier__learning_rate=0.01, classifier__max_depth=7, classifier__n_estimators=300, classifier__objective=binary:logistic, classifier__scale_pos_weight=0.21;, score=0.719 total time=   0.7s\n",
      "[CV 4/5] END classifier__learning_rate=0.01, classifier__max_depth=7, classifier__n_estimators=300, classifier__objective=binary:logistic, classifier__scale_pos_weight=0.21;, score=0.703 total time=   0.6s\n",
      "[CV 5/5] END classifier__learning_rate=0.01, classifier__max_depth=7, classifier__n_estimators=300, classifier__objective=binary:logistic, classifier__scale_pos_weight=0.21;, score=0.709 total time=   0.6s\n",
      "[CV 1/5] END classifier__learning_rate=0.001, classifier__max_depth=3, classifier__n_estimators=100, classifier__objective=binary:logistic, classifier__scale_pos_weight=0.21;, score=0.668 total time=   0.1s\n",
      "[CV 2/5] END classifier__learning_rate=0.001, classifier__max_depth=3, classifier__n_estimators=100, classifier__objective=binary:logistic, classifier__scale_pos_weight=0.21;, score=0.670 total time=   0.1s\n",
      "[CV 3/5] END classifier__learning_rate=0.001, classifier__max_depth=3, classifier__n_estimators=100, classifier__objective=binary:logistic, classifier__scale_pos_weight=0.21;, score=0.708 total time=   0.0s\n",
      "[CV 4/5] END classifier__learning_rate=0.001, classifier__max_depth=3, classifier__n_estimators=100, classifier__objective=binary:logistic, classifier__scale_pos_weight=0.21;, score=0.674 total time=   0.0s\n",
      "[CV 5/5] END classifier__learning_rate=0.001, classifier__max_depth=3, classifier__n_estimators=100, classifier__objective=binary:logistic, classifier__scale_pos_weight=0.21;, score=0.706 total time=   0.0s\n",
      "[CV 1/5] END classifier__learning_rate=0.001, classifier__max_depth=3, classifier__n_estimators=200, classifier__objective=binary:logistic, classifier__scale_pos_weight=0.21;, score=0.668 total time=   0.1s\n",
      "[CV 2/5] END classifier__learning_rate=0.001, classifier__max_depth=3, classifier__n_estimators=200, classifier__objective=binary:logistic, classifier__scale_pos_weight=0.21;, score=0.670 total time=   0.1s\n",
      "[CV 3/5] END classifier__learning_rate=0.001, classifier__max_depth=3, classifier__n_estimators=200, classifier__objective=binary:logistic, classifier__scale_pos_weight=0.21;, score=0.693 total time=   0.1s\n",
      "[CV 4/5] END classifier__learning_rate=0.001, classifier__max_depth=3, classifier__n_estimators=200, classifier__objective=binary:logistic, classifier__scale_pos_weight=0.21;, score=0.686 total time=   0.1s\n",
      "[CV 5/5] END classifier__learning_rate=0.001, classifier__max_depth=3, classifier__n_estimators=200, classifier__objective=binary:logistic, classifier__scale_pos_weight=0.21;, score=0.706 total time=   0.1s\n",
      "[CV 1/5] END classifier__learning_rate=0.001, classifier__max_depth=3, classifier__n_estimators=300, classifier__objective=binary:logistic, classifier__scale_pos_weight=0.21;, score=0.668 total time=   0.3s\n",
      "[CV 2/5] END classifier__learning_rate=0.001, classifier__max_depth=3, classifier__n_estimators=300, classifier__objective=binary:logistic, classifier__scale_pos_weight=0.21;, score=0.668 total time=   0.2s\n",
      "[CV 3/5] END classifier__learning_rate=0.001, classifier__max_depth=3, classifier__n_estimators=300, classifier__objective=binary:logistic, classifier__scale_pos_weight=0.21;, score=0.693 total time=   0.3s\n",
      "[CV 4/5] END classifier__learning_rate=0.001, classifier__max_depth=3, classifier__n_estimators=300, classifier__objective=binary:logistic, classifier__scale_pos_weight=0.21;, score=0.686 total time=   0.3s\n",
      "[CV 5/5] END classifier__learning_rate=0.001, classifier__max_depth=3, classifier__n_estimators=300, classifier__objective=binary:logistic, classifier__scale_pos_weight=0.21;, score=0.706 total time=   0.3s\n",
      "[CV 1/5] END classifier__learning_rate=0.001, classifier__max_depth=5, classifier__n_estimators=100, classifier__objective=binary:logistic, classifier__scale_pos_weight=0.21;, score=0.687 total time=   0.1s\n",
      "[CV 2/5] END classifier__learning_rate=0.001, classifier__max_depth=5, classifier__n_estimators=100, classifier__objective=binary:logistic, classifier__scale_pos_weight=0.21;, score=0.678 total time=   0.1s\n",
      "[CV 3/5] END classifier__learning_rate=0.001, classifier__max_depth=5, classifier__n_estimators=100, classifier__objective=binary:logistic, classifier__scale_pos_weight=0.21;, score=0.713 total time=   0.1s\n",
      "[CV 4/5] END classifier__learning_rate=0.001, classifier__max_depth=5, classifier__n_estimators=100, classifier__objective=binary:logistic, classifier__scale_pos_weight=0.21;, score=0.697 total time=   0.1s\n",
      "[CV 5/5] END classifier__learning_rate=0.001, classifier__max_depth=5, classifier__n_estimators=100, classifier__objective=binary:logistic, classifier__scale_pos_weight=0.21;, score=0.702 total time=   0.1s\n",
      "[CV 1/5] END classifier__learning_rate=0.001, classifier__max_depth=5, classifier__n_estimators=200, classifier__objective=binary:logistic, classifier__scale_pos_weight=0.21;, score=0.683 total time=   0.3s\n",
      "[CV 2/5] END classifier__learning_rate=0.001, classifier__max_depth=5, classifier__n_estimators=200, classifier__objective=binary:logistic, classifier__scale_pos_weight=0.21;, score=0.680 total time=   0.3s\n",
      "[CV 3/5] END classifier__learning_rate=0.001, classifier__max_depth=5, classifier__n_estimators=200, classifier__objective=binary:logistic, classifier__scale_pos_weight=0.21;, score=0.696 total time=   0.3s\n",
      "[CV 4/5] END classifier__learning_rate=0.001, classifier__max_depth=5, classifier__n_estimators=200, classifier__objective=binary:logistic, classifier__scale_pos_weight=0.21;, score=0.696 total time=   0.3s\n",
      "[CV 5/5] END classifier__learning_rate=0.001, classifier__max_depth=5, classifier__n_estimators=200, classifier__objective=binary:logistic, classifier__scale_pos_weight=0.21;, score=0.700 total time=   0.3s\n",
      "[CV 1/5] END classifier__learning_rate=0.001, classifier__max_depth=5, classifier__n_estimators=300, classifier__objective=binary:logistic, classifier__scale_pos_weight=0.21;, score=0.683 total time=   0.5s\n",
      "[CV 2/5] END classifier__learning_rate=0.001, classifier__max_depth=5, classifier__n_estimators=300, classifier__objective=binary:logistic, classifier__scale_pos_weight=0.21;, score=0.679 total time=   0.5s\n",
      "[CV 3/5] END classifier__learning_rate=0.001, classifier__max_depth=5, classifier__n_estimators=300, classifier__objective=binary:logistic, classifier__scale_pos_weight=0.21;, score=0.695 total time=   0.5s\n",
      "[CV 4/5] END classifier__learning_rate=0.001, classifier__max_depth=5, classifier__n_estimators=300, classifier__objective=binary:logistic, classifier__scale_pos_weight=0.21;, score=0.696 total time=   0.5s\n",
      "[CV 5/5] END classifier__learning_rate=0.001, classifier__max_depth=5, classifier__n_estimators=300, classifier__objective=binary:logistic, classifier__scale_pos_weight=0.21;, score=0.702 total time=   0.5s\n",
      "[CV 1/5] END classifier__learning_rate=0.001, classifier__max_depth=7, classifier__n_estimators=100, classifier__objective=binary:logistic, classifier__scale_pos_weight=0.21;, score=0.712 total time=   0.2s\n",
      "[CV 2/5] END classifier__learning_rate=0.001, classifier__max_depth=7, classifier__n_estimators=100, classifier__objective=binary:logistic, classifier__scale_pos_weight=0.21;, score=0.697 total time=   0.2s\n",
      "[CV 3/5] END classifier__learning_rate=0.001, classifier__max_depth=7, classifier__n_estimators=100, classifier__objective=binary:logistic, classifier__scale_pos_weight=0.21;, score=0.717 total time=   0.2s\n",
      "[CV 4/5] END classifier__learning_rate=0.001, classifier__max_depth=7, classifier__n_estimators=100, classifier__objective=binary:logistic, classifier__scale_pos_weight=0.21;, score=0.708 total time=   0.3s\n",
      "[CV 5/5] END classifier__learning_rate=0.001, classifier__max_depth=7, classifier__n_estimators=100, classifier__objective=binary:logistic, classifier__scale_pos_weight=0.21;, score=0.711 total time=   0.3s\n",
      "[CV 1/5] END classifier__learning_rate=0.001, classifier__max_depth=7, classifier__n_estimators=200, classifier__objective=binary:logistic, classifier__scale_pos_weight=0.21;, score=0.691 total time=   0.6s\n",
      "[CV 2/5] END classifier__learning_rate=0.001, classifier__max_depth=7, classifier__n_estimators=200, classifier__objective=binary:logistic, classifier__scale_pos_weight=0.21;, score=0.698 total time=   0.5s\n",
      "[CV 3/5] END classifier__learning_rate=0.001, classifier__max_depth=7, classifier__n_estimators=200, classifier__objective=binary:logistic, classifier__scale_pos_weight=0.21;, score=0.715 total time=   0.5s\n",
      "[CV 4/5] END classifier__learning_rate=0.001, classifier__max_depth=7, classifier__n_estimators=200, classifier__objective=binary:logistic, classifier__scale_pos_weight=0.21;, score=0.696 total time=   0.5s\n",
      "[CV 5/5] END classifier__learning_rate=0.001, classifier__max_depth=7, classifier__n_estimators=200, classifier__objective=binary:logistic, classifier__scale_pos_weight=0.21;, score=0.703 total time=   0.5s\n",
      "[CV 1/5] END classifier__learning_rate=0.001, classifier__max_depth=7, classifier__n_estimators=300, classifier__objective=binary:logistic, classifier__scale_pos_weight=0.21;, score=0.690 total time=   0.7s\n",
      "[CV 2/5] END classifier__learning_rate=0.001, classifier__max_depth=7, classifier__n_estimators=300, classifier__objective=binary:logistic, classifier__scale_pos_weight=0.21;, score=0.693 total time=   0.8s\n",
      "[CV 3/5] END classifier__learning_rate=0.001, classifier__max_depth=7, classifier__n_estimators=300, classifier__objective=binary:logistic, classifier__scale_pos_weight=0.21;, score=0.715 total time=   0.7s\n",
      "[CV 4/5] END classifier__learning_rate=0.001, classifier__max_depth=7, classifier__n_estimators=300, classifier__objective=binary:logistic, classifier__scale_pos_weight=0.21;, score=0.698 total time=   0.8s\n",
      "[CV 5/5] END classifier__learning_rate=0.001, classifier__max_depth=7, classifier__n_estimators=300, classifier__objective=binary:logistic, classifier__scale_pos_weight=0.21;, score=0.703 total time=   0.7s\n",
      "Best model params:\n",
      " {'classifier__learning_rate': 0.1, 'classifier__max_depth': 7, 'classifier__n_estimators': 300, 'classifier__objective': 'binary:logistic', 'classifier__scale_pos_weight': 0.21}\n"
     ]
    }
   ],
   "source": [
    "# Train xgboost model\n",
    "X_train, X_test, y_train, y_test = model.split_train_test(bogo_data, 'send_offer')\n",
    "model.pipeline = model.build_pipeline(X_train)\n",
    "model.fit_model(X_train, y_train)"
   ]
  },
  {
   "cell_type": "code",
   "execution_count": 5,
   "metadata": {},
   "outputs": [
    {
     "name": "stdout",
     "output_type": "stream",
     "text": [
      "Baseline Accuracy (always predict majority class): 0.8408385093167702\n",
      "\n",
      "Evaluation Metrics:\n",
      "Accuracy: 0.7458592132505176\n",
      "F1 Score: 0.8355108877721943\n",
      "ROC AUC Score: 0.6992575576725296\n",
      "\n",
      "Confusion Matrix:\n",
      "[[ 388  227]\n",
      " [ 755 2494]]\n",
      "\n",
      "Classification Report:\n",
      "              precision    recall  f1-score   support\n",
      "\n",
      "           0       0.34      0.63      0.44       615\n",
      "           1       0.92      0.77      0.84      3249\n",
      "\n",
      "    accuracy                           0.75      3864\n",
      "   macro avg       0.63      0.70      0.64      3864\n",
      "weighted avg       0.82      0.75      0.77      3864\n",
      "\n"
     ]
    }
   ],
   "source": [
    "# Evaluation\n",
    "y_pred = model.predict(X_test)\n",
    "model.evaluate(y_test, y_pred)"
   ]
  },
  {
   "cell_type": "code",
   "execution_count": 6,
   "metadata": {},
   "outputs": [
    {
     "ename": "AttributeError",
     "evalue": "'GridSearchCV' object has no attribute 'get_booster'",
     "output_type": "error",
     "traceback": [
      "\u001b[1;31m---------------------------------------------------------------------------\u001b[0m",
      "\u001b[1;31mAttributeError\u001b[0m                            Traceback (most recent call last)",
      "Cell \u001b[1;32mIn[6], line 1\u001b[0m\n\u001b[1;32m----> 1\u001b[0m \u001b[43mmodel\u001b[49m\u001b[38;5;241;43m.\u001b[39;49m\u001b[43mplot_feature_importance\u001b[49m\u001b[43m(\u001b[49m\u001b[43m)\u001b[49m\n",
      "File \u001b[1;32mc:\\Users\\Till\\Documents\\Learning_Coding\\Udacity_Data Science Track\\Project III_Capstone_Starbucks\\UDACITY_Capstone_Starbucks\\develop\\..\\source\\model.py:161\u001b[0m, in \u001b[0;36mXGBoostModel.plot_feature_importance\u001b[1;34m(self)\u001b[0m\n\u001b[0;32m    153\u001b[0m \u001b[38;5;28;01mdef\u001b[39;00m \u001b[38;5;21mplot_feature_importance\u001b[39m(\u001b[38;5;28mself\u001b[39m):\n\u001b[0;32m    154\u001b[0m \u001b[38;5;250m    \u001b[39m\u001b[38;5;124;03m\"\"\"\u001b[39;00m\n\u001b[0;32m    155\u001b[0m \u001b[38;5;124;03m    Plots feature importances.\u001b[39;00m\n\u001b[0;32m    156\u001b[0m \n\u001b[1;32m   (...)\u001b[0m\n\u001b[0;32m    159\u001b[0m \u001b[38;5;124;03m    - feature_names: List of feature names corresponding to the importances.\u001b[39;00m\n\u001b[0;32m    160\u001b[0m \u001b[38;5;124;03m    \"\"\"\u001b[39;00m\n\u001b[1;32m--> 161\u001b[0m     feature_important \u001b[38;5;241m=\u001b[39m \u001b[38;5;28;43mself\u001b[39;49m\u001b[38;5;241;43m.\u001b[39;49m\u001b[43mmodel\u001b[49m\u001b[38;5;241;43m.\u001b[39;49m\u001b[43mget_booster\u001b[49m()\u001b[38;5;241m.\u001b[39mget_score(importance_type\u001b[38;5;241m=\u001b[39m\u001b[38;5;124m'\u001b[39m\u001b[38;5;124mweight\u001b[39m\u001b[38;5;124m'\u001b[39m)\n\u001b[0;32m    162\u001b[0m     keys \u001b[38;5;241m=\u001b[39m \u001b[38;5;28mlist\u001b[39m(feature_important\u001b[38;5;241m.\u001b[39mkeys())\n\u001b[0;32m    163\u001b[0m     values \u001b[38;5;241m=\u001b[39m \u001b[38;5;28mlist\u001b[39m(feature_important\u001b[38;5;241m.\u001b[39mvalues())\n",
      "\u001b[1;31mAttributeError\u001b[0m: 'GridSearchCV' object has no attribute 'get_booster'"
     ]
    }
   ],
   "source": [
    "model.plot_feature_importance()"
   ]
  },
  {
   "cell_type": "markdown",
   "metadata": {},
   "source": [
    "#### discount data\n",
    "\n",
    "Next, let's run the model for discount offers."
   ]
  },
  {
   "cell_type": "code",
   "execution_count": null,
   "metadata": {},
   "outputs": [],
   "source": [
    "# Train xgboost model\n",
    "X_train, X_test, y_train, y_test = model.split_train_test(discount_data, 'send_offer')\n",
    "model.pipeline = model.build_pipeline(X_train)\n",
    "model.fit_model(X_train, y_train)"
   ]
  },
  {
   "cell_type": "code",
   "execution_count": null,
   "metadata": {},
   "outputs": [],
   "source": [
    "# Evaluation\n",
    "y_pred = model.predict(X_test)\n",
    "model.evaluate(y_test, y_pred)"
   ]
  },
  {
   "cell_type": "markdown",
   "metadata": {},
   "source": [
    "#### info data\n",
    "\n",
    "Lastly, let's run the model for informational offers."
   ]
  },
  {
   "cell_type": "code",
   "execution_count": null,
   "metadata": {},
   "outputs": [],
   "source": [
    "# Train xgboost model\n",
    "X_train, X_test, y_train, y_test = model.split_train_test(info_data, 'send_offer')\n",
    "model.pipeline = model.build_pipeline(X_train)\n",
    "model.fit_model(X_train, y_train)"
   ]
  },
  {
   "cell_type": "code",
   "execution_count": null,
   "metadata": {},
   "outputs": [],
   "source": [
    "# Evaluation\n",
    "y_pred = model.predict(X_test)\n",
    "model.evaluate(y_test, y_pred)"
   ]
  }
 ],
 "metadata": {
  "kernelspec": {
   "display_name": "Python 3",
   "language": "python",
   "name": "python3"
  },
  "language_info": {
   "codemirror_mode": {
    "name": "ipython",
    "version": 3
   },
   "file_extension": ".py",
   "mimetype": "text/x-python",
   "name": "python",
   "nbconvert_exporter": "python",
   "pygments_lexer": "ipython3",
   "version": "3.12.2"
  }
 },
 "nbformat": 4,
 "nbformat_minor": 2
}
