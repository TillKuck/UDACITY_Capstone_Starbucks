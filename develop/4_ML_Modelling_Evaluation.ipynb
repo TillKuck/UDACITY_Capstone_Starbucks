{
 "cells": [
  {
   "cell_type": "markdown",
   "metadata": {},
   "source": [
    "# ML Modelling & Evaluation of Models"
   ]
  },
  {
   "cell_type": "markdown",
   "metadata": {},
   "source": [
    "## Introduction\n",
    "\n",
    "In this notebook, I will run the machine learning model for all three models:  \n",
    "   1) model_bogo  \n",
    "   2) model_discount \n",
    "   3) model_info\n",
    "\n",
    "As machine learning model, I will use XGBoost since it's especially good with tabular data and imblanced datasets."
   ]
  },
  {
   "cell_type": "markdown",
   "metadata": {},
   "source": [
    "### Load libraries, xgboost model and datasets"
   ]
  },
  {
   "cell_type": "code",
   "execution_count": 26,
   "metadata": {},
   "outputs": [],
   "source": [
    "# import pandas as pd\n",
    "# import numpy as np\n",
    "# import matplotlib.pyplot as plt\n",
    "# import seaborn as sns\n",
    "\n",
    "import sys\n",
    "sys.path.append(\"..\")\n",
    "from source.utils import load_data\n",
    "from source.model import XGBoostModel\n"
   ]
  },
  {
   "cell_type": "code",
   "execution_count": 27,
   "metadata": {},
   "outputs": [],
   "source": [
    "# initiate XGBoost class\n",
    "model = XGBoostModel()"
   ]
  },
  {
   "cell_type": "code",
   "execution_count": 28,
   "metadata": {},
   "outputs": [],
   "source": [
    "bogo_data = load_data('../data/bogo_data.pkl')\n",
    "discount_data = load_data('../data/discount_data.pkl')\n",
    "info_data = load_data('../data/info_data.pkl')"
   ]
  },
  {
   "cell_type": "code",
   "execution_count": 29,
   "metadata": {},
   "outputs": [
    {
     "name": "stdout",
     "output_type": "stream",
     "text": [
      "<class 'pandas.core.frame.DataFrame'>\n",
      "RangeIndex: 16866 entries, 0 to 16865\n",
      "Data columns (total 14 columns):\n",
      " #   Column            Non-Null Count  Dtype  \n",
      "---  ------            --------------  -----  \n",
      " 0   offer_id          16866 non-null  object \n",
      " 1   send_offer        16866 non-null  int64  \n",
      " 2   gender            16866 non-null  object \n",
      " 3   age               16866 non-null  int64  \n",
      " 4   income            16866 non-null  float64\n",
      " 5   member_days       16866 non-null  int64  \n",
      " 6   offers_received   16866 non-null  int64  \n",
      " 7   offer_reward      16866 non-null  int64  \n",
      " 8   offer_difficulty  16866 non-null  int64  \n",
      " 9   offer_duration    16866 non-null  int64  \n",
      " 10  email             16866 non-null  int64  \n",
      " 11  mobile            16866 non-null  int64  \n",
      " 12  social            16866 non-null  int64  \n",
      " 13  web               16866 non-null  int64  \n",
      "dtypes: float64(1), int64(11), object(2)\n",
      "memory usage: 1.8+ MB\n"
     ]
    }
   ],
   "source": [
    "bogo_data.info()"
   ]
  },
  {
   "cell_type": "markdown",
   "metadata": {},
   "source": [
    "### Machine Learning Modelling"
   ]
  },
  {
   "cell_type": "markdown",
   "metadata": {},
   "source": [
    "### Model Evaluation"
   ]
  },
  {
   "cell_type": "markdown",
   "metadata": {},
   "source": [
    "#### bogo data\n",
    "\n",
    "We start off with the bogo data. Let's see how good our XGBoost model performs:"
   ]
  },
  {
   "cell_type": "code",
   "execution_count": 30,
   "metadata": {},
   "outputs": [
    {
     "ename": "AttributeError",
     "evalue": "'XGBoostModel' object has no attribute 'param_grid'",
     "output_type": "error",
     "traceback": [
      "\u001b[1;31m---------------------------------------------------------------------------\u001b[0m",
      "\u001b[1;31mAttributeError\u001b[0m                            Traceback (most recent call last)",
      "Cell \u001b[1;32mIn[30], line 4\u001b[0m\n\u001b[0;32m      2\u001b[0m X_train, X_test, y_train, y_test \u001b[38;5;241m=\u001b[39m model\u001b[38;5;241m.\u001b[39msplit_train_test(bogo_data, \u001b[38;5;124m'\u001b[39m\u001b[38;5;124msend_offer\u001b[39m\u001b[38;5;124m'\u001b[39m)\n\u001b[0;32m      3\u001b[0m model\u001b[38;5;241m.\u001b[39mpipeline \u001b[38;5;241m=\u001b[39m model\u001b[38;5;241m.\u001b[39mbuild_pipeline(X_train)\n\u001b[1;32m----> 4\u001b[0m \u001b[43mmodel\u001b[49m\u001b[38;5;241;43m.\u001b[39;49m\u001b[43mfit_model\u001b[49m\u001b[43m(\u001b[49m\u001b[43mX_train\u001b[49m\u001b[43m,\u001b[49m\u001b[43m \u001b[49m\u001b[43my_train\u001b[49m\u001b[43m)\u001b[49m\n",
      "File \u001b[1;32mc:\\Users\\Till\\Documents\\Learning_Coding\\Udacity_Data Science Track\\Project III_Capstone_Starbucks\\UDACITY_Capstone_Starbucks\\develop\\..\\source\\model.py:70\u001b[0m, in \u001b[0;36mXGBoostModel.fit_model\u001b[1;34m(self, X_train, y_train)\u001b[0m\n\u001b[0;32m     67\u001b[0m scale_pos_weight \u001b[38;5;241m=\u001b[39m neg_count \u001b[38;5;241m/\u001b[39m pos_count\n\u001b[0;32m     69\u001b[0m \u001b[38;5;66;03m# Update param_grid with scale_pos_weight\u001b[39;00m\n\u001b[1;32m---> 70\u001b[0m \u001b[38;5;28;43mself\u001b[39;49m\u001b[38;5;241;43m.\u001b[39;49m\u001b[43mparam_grid\u001b[49m[\u001b[38;5;124m'\u001b[39m\u001b[38;5;124mclassifier__scale_pos_weight\u001b[39m\u001b[38;5;124m'\u001b[39m] \u001b[38;5;241m=\u001b[39m [scale_pos_weight]\n\u001b[0;32m     72\u001b[0m \u001b[38;5;66;03m# Perform grid search with cross-validation\u001b[39;00m\n\u001b[0;32m     73\u001b[0m \u001b[38;5;28mself\u001b[39m\u001b[38;5;241m.\u001b[39mmodel \u001b[38;5;241m=\u001b[39m GridSearchCV(\u001b[38;5;28mself\u001b[39m\u001b[38;5;241m.\u001b[39mpipeline, param_grid, cv\u001b[38;5;241m=\u001b[39m\u001b[38;5;241m5\u001b[39m, verbose\u001b[38;5;241m=\u001b[39m\u001b[38;5;241m1\u001b[39m)\n",
      "\u001b[1;31mAttributeError\u001b[0m: 'XGBoostModel' object has no attribute 'param_grid'"
     ]
    }
   ],
   "source": [
    "# Train xgboost model\n",
    "X_train, X_test, y_train, y_test = model.split_train_test(bogo_data, 'send_offer')\n",
    "model.pipeline = model.build_pipeline(X_train)\n",
    "model.fit_model(X_train, y_train)"
   ]
  },
  {
   "cell_type": "code",
   "execution_count": null,
   "metadata": {},
   "outputs": [],
   "source": [
    "# Evaluation\n",
    "y_pred = model.predict(X_test)\n",
    "model.evaluate(y_test, y_pred)"
   ]
  }
 ],
 "metadata": {
  "kernelspec": {
   "display_name": "Python 3",
   "language": "python",
   "name": "python3"
  },
  "language_info": {
   "codemirror_mode": {
    "name": "ipython",
    "version": 3
   },
   "file_extension": ".py",
   "mimetype": "text/x-python",
   "name": "python",
   "nbconvert_exporter": "python",
   "pygments_lexer": "ipython3",
   "version": "3.12.2"
  }
 },
 "nbformat": 4,
 "nbformat_minor": 2
}
